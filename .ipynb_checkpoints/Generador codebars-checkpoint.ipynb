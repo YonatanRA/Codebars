{
 "cells": [
  {
   "cell_type": "markdown",
   "metadata": {},
   "source": [
    "# Generador de codigos de barras (imagenes)"
   ]
  },
  {
   "cell_type": "code",
   "execution_count": null,
   "metadata": {},
   "outputs": [],
   "source": [
    "#librerias\n",
    "\n",
    "import pandas as pd\n",
    "\n",
    "import pymongo\n",
    "\n",
    "from barcode import EAN13\n",
    "from barcode.writer import ImageWriter"
   ]
  },
  {
   "cell_type": "code",
   "execution_count": null,
   "metadata": {},
   "outputs": [],
   "source": [
    "# lectura base de datos\n",
    "\n",
    "cliente=pymongo.MongoClient()\n",
    "db=cliente.supply\n",
    "\n",
    "df=pd.DataFrame(list(db.zapatos.find()))\n",
    "df.head()"
   ]
  },
  {
   "cell_type": "code",
   "execution_count": null,
   "metadata": {},
   "outputs": [],
   "source": [
    "df.info()       # check"
   ]
  },
  {
   "cell_type": "raw",
   "metadata": {},
   "source": [
    "# crea una imagen\n",
    "\n",
    "with open('code.jpeg', 'wb') as f:\n",
    "    EAN13(str(df.ean[0]), writer=ImageWriter()).write(f)"
   ]
  },
  {
   "cell_type": "raw",
   "metadata": {},
   "source": [
    "# para todos los registros\n",
    "\n",
    "for i in range(len(df)):\n",
    "    with open('barcodes/code_{}.jpeg'.format(i), 'wb') as f:\n",
    "        EAN13(df.ean[i], writer=ImageWriter()).write(f)"
   ]
  },
  {
   "cell_type": "code",
   "execution_count": null,
   "metadata": {},
   "outputs": [],
   "source": [
    "# 10 imagenes\n",
    "\n",
    "for i in range(10):\n",
    "    with open('barcodes/code_{}.jpeg'.format(i), 'wb') as f:\n",
    "        EAN13(df.ean[i], writer=ImageWriter()).write(f)"
   ]
  },
  {
   "cell_type": "code",
   "execution_count": null,
   "metadata": {},
   "outputs": [],
   "source": []
  }
 ],
 "metadata": {
  "kernelspec": {
   "display_name": "Python 3",
   "language": "python",
   "name": "python3"
  },
  "language_info": {
   "codemirror_mode": {
    "name": "ipython",
    "version": 3
   },
   "file_extension": ".py",
   "mimetype": "text/x-python",
   "name": "python",
   "nbconvert_exporter": "python",
   "pygments_lexer": "ipython3",
   "version": "3.8.2"
  }
 },
 "nbformat": 4,
 "nbformat_minor": 2
}
