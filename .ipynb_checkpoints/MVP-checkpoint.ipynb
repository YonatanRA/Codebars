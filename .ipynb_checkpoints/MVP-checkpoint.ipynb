{
 "cells": [
  {
   "cell_type": "markdown",
   "metadata": {},
   "source": [
    "# Minimo Producto Viable\n",
    "\n",
    "Proceso de uso:\n",
    "\n",
    "+ Captura imagen por webcam de un codigo de barras\n",
    "+ Decodifica codigo de barras\n",
    "+ Busca el producto en la base de datos\n",
    "+ Busca productos similares"
   ]
  },
  {
   "cell_type": "code",
   "execution_count": 1,
   "metadata": {},
   "outputs": [],
   "source": [
    "# librerias\n",
    "\n",
    "import cv2\n",
    "from pyzbar.pyzbar import decode\n",
    "from PIL import Image\n",
    "import pandas as pd\n",
    "import ast\n",
    "import pymongo\n",
    "import requests\n",
    "import matplotlib.pyplot as plt\n",
    "%matplotlib inline\n",
    "\n",
    "import warnings\n",
    "warnings.simplefilter('ignore')"
   ]
  },
  {
   "cell_type": "code",
   "execution_count": 2,
   "metadata": {},
   "outputs": [],
   "source": [
    "# captura por camara\n",
    "\n",
    "def captura():\n",
    "    cam=cv2.VideoCapture(0)\n",
    "    while 1:\n",
    "        ret, frame=cam.read()\n",
    "        cv2.imshow('Captura', frame)\n",
    "        \n",
    "        if ret==False: break\n",
    "        \n",
    "        key=cv2.waitKey(1)\n",
    "        \n",
    "        if key%256==27: break # tecla ESC\n",
    "        \n",
    "        elif key%256==32: # SPACE\n",
    "            img_name='capturas/codigo.png'\n",
    "            cv2.imwrite(img_name, frame)\n",
    "            print ('Captura guardada\\n\\n')\n",
    "            break\n",
    "            \n",
    "    cam.release()\n",
    "    cv2.destroyAllWindows()\n",
    "    plt.imshow(plt.imread('capturas/codigo.png'));"
   ]
  },
  {
   "cell_type": "code",
   "execution_count": 3,
   "metadata": {},
   "outputs": [
    {
     "name": "stdout",
     "output_type": "stream",
     "text": [
      "Captura guardada\n"
     ]
    }
   ],
   "source": [
    "captura()"
   ]
  },
  {
   "cell_type": "code",
   "execution_count": 8,
   "metadata": {},
   "outputs": [],
   "source": [
    "# decodifica codigo de barras\n",
    "\n",
    "codigo=decode(Image.open('capturas/codigo.png'))[0][0]"
   ]
  },
  {
   "cell_type": "code",
   "execution_count": 9,
   "metadata": {},
   "outputs": [
    {
     "data": {
      "text/html": [
       "<div>\n",
       "<style scoped>\n",
       "    .dataframe tbody tr th:only-of-type {\n",
       "        vertical-align: middle;\n",
       "    }\n",
       "\n",
       "    .dataframe tbody tr th {\n",
       "        vertical-align: top;\n",
       "    }\n",
       "\n",
       "    .dataframe thead th {\n",
       "        text-align: right;\n",
       "    }\n",
       "</style>\n",
       "<table border=\"1\" class=\"dataframe\">\n",
       "  <thead>\n",
       "    <tr style=\"text-align: right;\">\n",
       "      <th></th>\n",
       "      <th>_id</th>\n",
       "      <th>brand</th>\n",
       "      <th>color</th>\n",
       "      <th>size</th>\n",
       "      <th>price</th>\n",
       "      <th>URL</th>\n",
       "      <th>ean</th>\n",
       "      <th>upc</th>\n",
       "    </tr>\n",
       "  </thead>\n",
       "  <tbody>\n",
       "    <tr>\n",
       "      <th>0</th>\n",
       "      <td>5f37c5bafd075a485e637747</td>\n",
       "      <td>MUK LUKS</td>\n",
       "      <td>Grey</td>\n",
       "      <td>10</td>\n",
       "      <td>47.0</td>\n",
       "      <td>https://i5.walmartimages.com/asr/421de5d5-3a74...</td>\n",
       "      <td>725177540363</td>\n",
       "      <td>033977045743</td>\n",
       "    </tr>\n",
       "    <tr>\n",
       "      <th>1</th>\n",
       "      <td>5f37c5bafd075a485e637748</td>\n",
       "      <td>MUK LUKS</td>\n",
       "      <td>Grey</td>\n",
       "      <td>7</td>\n",
       "      <td>47.0</td>\n",
       "      <td>https://i5.walmartimages.com/asr/421de5d5-3a74...</td>\n",
       "      <td>725177540370</td>\n",
       "      <td>033977045743</td>\n",
       "    </tr>\n",
       "    <tr>\n",
       "      <th>2</th>\n",
       "      <td>5f37c5bafd075a485e637749</td>\n",
       "      <td>MUK LUKS</td>\n",
       "      <td>Grey</td>\n",
       "      <td>6</td>\n",
       "      <td>47.0</td>\n",
       "      <td>https://i5.walmartimages.com/asr/421de5d5-3a74...</td>\n",
       "      <td>797776092321</td>\n",
       "      <td>033977045743</td>\n",
       "    </tr>\n",
       "    <tr>\n",
       "      <th>3</th>\n",
       "      <td>5f37c5bafd075a485e63774a</td>\n",
       "      <td>MUK LUKS</td>\n",
       "      <td>Grey</td>\n",
       "      <td>9</td>\n",
       "      <td>47.0</td>\n",
       "      <td>https://i5.walmartimages.com/asr/421de5d5-3a74...</td>\n",
       "      <td>701197194311</td>\n",
       "      <td>033977045743</td>\n",
       "    </tr>\n",
       "    <tr>\n",
       "      <th>4</th>\n",
       "      <td>5f37c5bafd075a485e63774b</td>\n",
       "      <td>MUK LUKS</td>\n",
       "      <td>Grey</td>\n",
       "      <td>8</td>\n",
       "      <td>47.0</td>\n",
       "      <td>https://i5.walmartimages.com/asr/421de5d5-3a74...</td>\n",
       "      <td>797776110773</td>\n",
       "      <td>033977045743</td>\n",
       "    </tr>\n",
       "  </tbody>\n",
       "</table>\n",
       "</div>"
      ],
      "text/plain": [
       "                        _id     brand color size  price  \\\n",
       "0  5f37c5bafd075a485e637747  MUK LUKS  Grey   10   47.0   \n",
       "1  5f37c5bafd075a485e637748  MUK LUKS  Grey    7   47.0   \n",
       "2  5f37c5bafd075a485e637749  MUK LUKS  Grey    6   47.0   \n",
       "3  5f37c5bafd075a485e63774a  MUK LUKS  Grey    9   47.0   \n",
       "4  5f37c5bafd075a485e63774b  MUK LUKS  Grey    8   47.0   \n",
       "\n",
       "                                                 URL           ean  \\\n",
       "0  https://i5.walmartimages.com/asr/421de5d5-3a74...  725177540363   \n",
       "1  https://i5.walmartimages.com/asr/421de5d5-3a74...  725177540370   \n",
       "2  https://i5.walmartimages.com/asr/421de5d5-3a74...  797776092321   \n",
       "3  https://i5.walmartimages.com/asr/421de5d5-3a74...  701197194311   \n",
       "4  https://i5.walmartimages.com/asr/421de5d5-3a74...  797776110773   \n",
       "\n",
       "            upc  \n",
       "0  033977045743  \n",
       "1  033977045743  \n",
       "2  033977045743  \n",
       "3  033977045743  \n",
       "4  033977045743  "
      ]
     },
     "execution_count": 9,
     "metadata": {},
     "output_type": "execute_result"
    }
   ],
   "source": [
    "# conexion base de datos\n",
    "\n",
    "cliente=pymongo.MongoClient()\n",
    "db=cliente.supply\n",
    "\n",
    "df=pd.DataFrame(list(db.zapatos.find()))\n",
    "df.head()"
   ]
  },
  {
   "cell_type": "code",
   "execution_count": 10,
   "metadata": {},
   "outputs": [],
   "source": [
    "# busqueda en base de datos\n",
    "\n",
    "for e in df.ean:\n",
    "    if e==str(ast.literal_eval(codigo.decode('utf8')))[0:-1]:\n",
    "        elem=(df.loc[df.ean==e])"
   ]
  },
  {
   "cell_type": "code",
   "execution_count": 11,
   "metadata": {},
   "outputs": [
    {
     "data": {
      "text/html": [
       "<div>\n",
       "<style scoped>\n",
       "    .dataframe tbody tr th:only-of-type {\n",
       "        vertical-align: middle;\n",
       "    }\n",
       "\n",
       "    .dataframe tbody tr th {\n",
       "        vertical-align: top;\n",
       "    }\n",
       "\n",
       "    .dataframe thead th {\n",
       "        text-align: right;\n",
       "    }\n",
       "</style>\n",
       "<table border=\"1\" class=\"dataframe\">\n",
       "  <thead>\n",
       "    <tr style=\"text-align: right;\">\n",
       "      <th></th>\n",
       "      <th>_id</th>\n",
       "      <th>brand</th>\n",
       "      <th>color</th>\n",
       "      <th>size</th>\n",
       "      <th>price</th>\n",
       "      <th>URL</th>\n",
       "      <th>ean</th>\n",
       "      <th>upc</th>\n",
       "    </tr>\n",
       "  </thead>\n",
       "  <tbody>\n",
       "    <tr>\n",
       "      <th>3</th>\n",
       "      <td>5f37c5bafd075a485e63774a</td>\n",
       "      <td>MUK LUKS</td>\n",
       "      <td>Grey</td>\n",
       "      <td>9</td>\n",
       "      <td>47.0</td>\n",
       "      <td>https://i5.walmartimages.com/asr/421de5d5-3a74...</td>\n",
       "      <td>701197194311</td>\n",
       "      <td>033977045743</td>\n",
       "    </tr>\n",
       "  </tbody>\n",
       "</table>\n",
       "</div>"
      ],
      "text/plain": [
       "                        _id     brand color size  price  \\\n",
       "3  5f37c5bafd075a485e63774a  MUK LUKS  Grey    9   47.0   \n",
       "\n",
       "                                                 URL           ean  \\\n",
       "3  https://i5.walmartimages.com/asr/421de5d5-3a74...  701197194311   \n",
       "\n",
       "            upc  \n",
       "3  033977045743  "
      ]
     },
     "execution_count": 11,
     "metadata": {},
     "output_type": "execute_result"
    }
   ],
   "source": [
    "# elemento buscado\n",
    "\n",
    "diaplay(elem)\n",
    "\n",
    "res=requests.get(elem.URL[elem.index[0]], stream=True)\n",
    "img=Image.open(res.raw)\n",
    "\n",
    "plt.imshow(img)\n",
    "plt.show();"
   ]
  },
  {
   "cell_type": "code",
   "execution_count": null,
   "metadata": {},
   "outputs": [],
   "source": [
    "# extraccion de los productos de la misma marca\n",
    "\n",
    "df.loc[df.brand==elem.brand[elem.index[0]]]"
   ]
  },
  {
   "cell_type": "code",
   "execution_count": null,
   "metadata": {},
   "outputs": [],
   "source": []
  },
  {
   "cell_type": "code",
   "execution_count": null,
   "metadata": {},
   "outputs": [],
   "source": []
  },
  {
   "cell_type": "code",
   "execution_count": null,
   "metadata": {},
   "outputs": [],
   "source": []
  }
 ],
 "metadata": {
  "kernelspec": {
   "display_name": "Python 3",
   "language": "python",
   "name": "python3"
  },
  "language_info": {
   "codemirror_mode": {
    "name": "ipython",
    "version": 3
   },
   "file_extension": ".py",
   "mimetype": "text/x-python",
   "name": "python",
   "nbconvert_exporter": "python",
   "pygments_lexer": "ipython3",
   "version": "3.8.2"
  }
 },
 "nbformat": 4,
 "nbformat_minor": 2
}
