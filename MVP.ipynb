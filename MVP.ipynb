{
 "cells": [
  {
   "cell_type": "markdown",
   "metadata": {},
   "source": [
    "# Minimo Producto Viable\n",
    "\n",
    "Proceso de uso:\n",
    "\n",
    "+ Captura imagen por webcam de un codigo de barras\n",
    "+ Decodifica codigo de barras\n"
   ]
  },
  {
   "cell_type": "code",
   "execution_count": 1,
   "metadata": {},
   "outputs": [],
   "source": [
    "# librerias\n",
    "\n",
    "import cv2\n",
    "from pyzbar.pyzbar import decode\n",
    "from PIL import Image\n",
    "import pandas as pd\n",
    "import ast\n",
    "import pymongo\n",
    "\n",
    "import warnings\n",
    "warnings.simplefilter('ignore')"
   ]
  },
  {
   "cell_type": "code",
   "execution_count": null,
   "metadata": {},
   "outputs": [],
   "source": [
    "# captura por camara\n",
    "\n",
    "def captura():\n",
    "    cam=cv2.VideoCapture(0)\n",
    "    while 1:\n",
    "        ret, frame=cam.read()\n",
    "        cv2.imshow('Captura', frame)\n",
    "        \n",
    "        if ret==False: break\n",
    "        \n",
    "        key=cv2.waitKey(1)\n",
    "        \n",
    "        if key%256==27: break # tecla ESC\n",
    "        \n",
    "        elif key%256==32: # SPACE\n",
    "            img_name='capturas/codigo.png'\n",
    "            cv2.imwrite(img_name, frame)\n",
    "            print ('Captura guardada')\n",
    "            break\n",
    "            \n",
    "    cam.release()\n",
    "    cv2.destroyAllWindows()"
   ]
  },
  {
   "cell_type": "code",
   "execution_count": null,
   "metadata": {},
   "outputs": [],
   "source": [
    "captura()"
   ]
  },
  {
   "cell_type": "code",
   "execution_count": null,
   "metadata": {},
   "outputs": [],
   "source": [
    "# decodifica codigo de barras\n",
    "\n",
    "codigo=decode(Image.open('capturas/codigo.png'))[0][0]"
   ]
  },
  {
   "cell_type": "code",
   "execution_count": null,
   "metadata": {},
   "outputs": [],
   "source": [
    "# conexion base de datos\n",
    "\n",
    "cliente=pymongo.MongoClient()\n",
    "db=cliente.supply\n",
    "\n",
    "df=pd.DataFrame(list(db.zapatos.find()))\n",
    "df.head()"
   ]
  },
  {
   "cell_type": "code",
   "execution_count": null,
   "metadata": {},
   "outputs": [],
   "source": [
    "# busqueda en base de datos\n",
    "\n",
    "for e in df.ean:\n",
    "    if e==str(ast.literal_eval(codigo.decode('utf8')))[0:-1]:\n",
    "        elem=(df.loc[df.ean==e])"
   ]
  },
  {
   "cell_type": "code",
   "execution_count": null,
   "metadata": {},
   "outputs": [],
   "source": [
    "# elemento buscado\n",
    "\n",
    "elem"
   ]
  },
  {
   "cell_type": "code",
   "execution_count": null,
   "metadata": {},
   "outputs": [],
   "source": [
    "# extraccion de los productos iguales\n",
    "\n",
    "df.loc[df.brand==elem.brand[elem.index[0]]]"
   ]
  },
  {
   "cell_type": "raw",
   "metadata": {},
   "source": [
    "# imagen\n",
    "\n",
    "import requests\n",
    "import matplotlib.pyplot as plt\n",
    "%matplotlib inline\n",
    "\n",
    "res=requests.get(elem.URL[elem.index[0]], stream=True)\n",
    "img=Image.open(res.raw)\n",
    "\n",
    "plt.imshow(img)\n",
    "plt.show();"
   ]
  },
  {
   "cell_type": "code",
   "execution_count": null,
   "metadata": {},
   "outputs": [],
   "source": []
  },
  {
   "cell_type": "code",
   "execution_count": null,
   "metadata": {},
   "outputs": [],
   "source": []
  },
  {
   "cell_type": "code",
   "execution_count": null,
   "metadata": {},
   "outputs": [],
   "source": []
  }
 ],
 "metadata": {
  "kernelspec": {
   "display_name": "Python 3",
   "language": "python",
   "name": "python3"
  },
  "language_info": {
   "codemirror_mode": {
    "name": "ipython",
    "version": 3
   },
   "file_extension": ".py",
   "mimetype": "text/x-python",
   "name": "python",
   "nbconvert_exporter": "python",
   "pygments_lexer": "ipython3",
   "version": "3.8.2"
  }
 },
 "nbformat": 4,
 "nbformat_minor": 2
}
