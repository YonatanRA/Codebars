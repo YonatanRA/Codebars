{
 "cells": [
  {
   "cell_type": "markdown",
   "metadata": {},
   "source": [
    "# Minimo Producto Viable\n",
    "\n",
    "Proceso de uso:\n",
    "\n",
    "+ Captura imagen por webcam de un codigo de barras\n",
    "+ Decodifica codigo de barras\n",
    "+ Busca el producto en la base de datos\n",
    "+ Busca productos similares"
   ]
  },
  {
   "cell_type": "code",
   "execution_count": null,
   "metadata": {},
   "outputs": [],
   "source": [
    "# librerias\n",
    "\n",
    "import cv2\n",
    "from pyzbar.pyzbar import decode\n",
    "from PIL import Image\n",
    "import pandas as pd\n",
    "import ast\n",
    "import pymongo\n",
    "import requests\n",
    "import matplotlib.pyplot as plt\n",
    "%matplotlib inline\n",
    "\n",
    "import warnings\n",
    "warnings.simplefilter('ignore')"
   ]
  },
  {
   "cell_type": "code",
   "execution_count": null,
   "metadata": {},
   "outputs": [],
   "source": [
    "# captura por camara\n",
    "\n",
    "def captura():\n",
    "    cam=cv2.VideoCapture(0)\n",
    "    while 1:\n",
    "        ret, frame=cam.read()\n",
    "        cv2.imshow('Captura', frame)\n",
    "        \n",
    "        if ret==False: break\n",
    "        \n",
    "        key=cv2.waitKey(1)\n",
    "        \n",
    "        if key%256==27: break # tecla ESC\n",
    "        \n",
    "        elif key%256==32: # SPACE\n",
    "            img_name='capturas/codigo.png'\n",
    "            cv2.imwrite(img_name, frame)\n",
    "            print ('Captura guardada\\n\\n')\n",
    "            break\n",
    "            \n",
    "    cam.release()\n",
    "    cv2.destroyAllWindows()\n",
    "    plt.imshow(plt.imread('capturas/codigo.png'));\n"
   ]
  },
  {
   "cell_type": "code",
   "execution_count": null,
   "metadata": {},
   "outputs": [],
   "source": [
    "# decodifica codigo de barras\n",
    "\n",
    "def decodifica():\n",
    "    codigo=decode(Image.open('capturas/codigo.png'))[0][0]\n",
    "    return codigo"
   ]
  },
  {
   "cell_type": "code",
   "execution_count": null,
   "metadata": {},
   "outputs": [],
   "source": [
    "# conexion base de datos\n",
    "\n",
    "def base_datos(db, colec):\n",
    "    \n",
    "    df=pd.DataFrame(list(db.colec.find()))\n",
    "    \n",
    "    return df"
   ]
  },
  {
   "cell_type": "code",
   "execution_count": null,
   "metadata": {},
   "outputs": [],
   "source": [
    "# busqueda elemento en base de datos\n",
    "\n",
    "def elemento(df, codigo):\n",
    "    \n",
    "    elem=df.loc[df.ean==str(ast.literal_eval(codigo.decode('utf8')))[0:-1]]\n",
    "    \n",
    "    display(elem)\n",
    "\n",
    "    res=requests.get(elem.URL[elem.index[0]], stream=True)\n",
    "    img=Image.open(res.raw)\n",
    "\n",
    "    plt.imshow(img);\n",
    "    \n",
    "    return elem"
   ]
  },
  {
   "cell_type": "code",
   "execution_count": null,
   "metadata": {},
   "outputs": [],
   "source": [
    "# busqueda de productos similares (brand, color, size, price)\n",
    "\n",
    "def busqueda_similares(df, elem, campo):\n",
    "    \n",
    "    productos=df.loc[df[campo]==elem[campo][elem.index[0]]]\n",
    "    \n",
    "    return productos"
   ]
  },
  {
   "cell_type": "code",
   "execution_count": null,
   "metadata": {},
   "outputs": [],
   "source": [
    "# funcion para ver las fotos de los productos similares\n",
    "\n",
    "def fotos(productos):\n",
    "    \n",
    "    res=requests.get(elem.URL[elem.index[0]], stream=True)\n",
    "    img=Image.open(res.raw)\n",
    "\n",
    "    plt.imshow(img);"
   ]
  },
  {
   "cell_type": "markdown",
   "metadata": {},
   "source": [
    "**Proceso**"
   ]
  },
  {
   "cell_type": "code",
   "execution_count": null,
   "metadata": {},
   "outputs": [],
   "source": [
    "captura()"
   ]
  },
  {
   "cell_type": "code",
   "execution_count": null,
   "metadata": {},
   "outputs": [],
   "source": [
    "codigo=decodifica()\n",
    "\n",
    "\n",
    "cliente=pymongo.MongoClient()\n",
    "\n",
    "db=cliente.supply\n",
    "coleccion=zapatos\n",
    "\n",
    "data=base_datos(db, coleccion)"
   ]
  },
  {
   "cell_type": "code",
   "execution_count": null,
   "metadata": {},
   "outputs": [],
   "source": [
    "elem=elemento(data, codigo)"
   ]
  },
  {
   "cell_type": "code",
   "execution_count": null,
   "metadata": {},
   "outputs": [],
   "source": [
    "busqueda_similares(data, elem, 'brand')"
   ]
  },
  {
   "cell_type": "code",
   "execution_count": null,
   "metadata": {},
   "outputs": [],
   "source": [
    "busqueda_similares(data, elem, 'color')"
   ]
  },
  {
   "cell_type": "code",
   "execution_count": null,
   "metadata": {},
   "outputs": [],
   "source": [
    "busqueda_similares(df, elem, 'size')"
   ]
  },
  {
   "cell_type": "code",
   "execution_count": null,
   "metadata": {},
   "outputs": [],
   "source": [
    "busqueda_similares(df, elem, 'price')"
   ]
  }
 ],
 "metadata": {
  "kernelspec": {
   "display_name": "Python 3",
   "language": "python",
   "name": "python3"
  },
  "language_info": {
   "codemirror_mode": {
    "name": "ipython",
    "version": 3
   },
   "file_extension": ".py",
   "mimetype": "text/x-python",
   "name": "python",
   "nbconvert_exporter": "python",
   "pygments_lexer": "ipython3",
   "version": "3.8.2"
  }
 },
 "nbformat": 4,
 "nbformat_minor": 2
}
