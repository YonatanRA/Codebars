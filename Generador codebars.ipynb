{
 "cells": [
  {
   "cell_type": "markdown",
   "metadata": {},
   "source": [
    "# Generador de codigos de barras (imagenes)"
   ]
  },
  {
   "cell_type": "code",
   "execution_count": 1,
   "metadata": {},
   "outputs": [],
   "source": [
    "#librerias\n",
    "\n",
    "import pandas as pd\n",
    "\n",
    "import pymongo\n",
    "\n",
    "from barcode import EAN13\n",
    "from barcode.writer import ImageWriter"
   ]
  },
  {
   "cell_type": "code",
   "execution_count": 2,
   "metadata": {},
   "outputs": [
    {
     "data": {
      "text/html": [
       "<div>\n",
       "<style scoped>\n",
       "    .dataframe tbody tr th:only-of-type {\n",
       "        vertical-align: middle;\n",
       "    }\n",
       "\n",
       "    .dataframe tbody tr th {\n",
       "        vertical-align: top;\n",
       "    }\n",
       "\n",
       "    .dataframe thead th {\n",
       "        text-align: right;\n",
       "    }\n",
       "</style>\n",
       "<table border=\"1\" class=\"dataframe\">\n",
       "  <thead>\n",
       "    <tr style=\"text-align: right;\">\n",
       "      <th></th>\n",
       "      <th>_id</th>\n",
       "      <th>brand</th>\n",
       "      <th>color</th>\n",
       "      <th>size</th>\n",
       "      <th>price</th>\n",
       "      <th>URL</th>\n",
       "      <th>ean</th>\n",
       "      <th>upc</th>\n",
       "    </tr>\n",
       "  </thead>\n",
       "  <tbody>\n",
       "    <tr>\n",
       "      <th>0</th>\n",
       "      <td>5f37c5bafd075a485e637747</td>\n",
       "      <td>MUK LUKS</td>\n",
       "      <td>Grey</td>\n",
       "      <td>10</td>\n",
       "      <td>47.0</td>\n",
       "      <td>https://i5.walmartimages.com/asr/421de5d5-3a74...</td>\n",
       "      <td>725177540363</td>\n",
       "      <td>033977045743</td>\n",
       "    </tr>\n",
       "    <tr>\n",
       "      <th>1</th>\n",
       "      <td>5f37c5bafd075a485e637748</td>\n",
       "      <td>MUK LUKS</td>\n",
       "      <td>Grey</td>\n",
       "      <td>7</td>\n",
       "      <td>47.0</td>\n",
       "      <td>https://i5.walmartimages.com/asr/421de5d5-3a74...</td>\n",
       "      <td>725177540370</td>\n",
       "      <td>033977045743</td>\n",
       "    </tr>\n",
       "    <tr>\n",
       "      <th>2</th>\n",
       "      <td>5f37c5bafd075a485e637749</td>\n",
       "      <td>MUK LUKS</td>\n",
       "      <td>Grey</td>\n",
       "      <td>6</td>\n",
       "      <td>47.0</td>\n",
       "      <td>https://i5.walmartimages.com/asr/421de5d5-3a74...</td>\n",
       "      <td>797776092321</td>\n",
       "      <td>033977045743</td>\n",
       "    </tr>\n",
       "    <tr>\n",
       "      <th>3</th>\n",
       "      <td>5f37c5bafd075a485e63774a</td>\n",
       "      <td>MUK LUKS</td>\n",
       "      <td>Grey</td>\n",
       "      <td>9</td>\n",
       "      <td>47.0</td>\n",
       "      <td>https://i5.walmartimages.com/asr/421de5d5-3a74...</td>\n",
       "      <td>701197194311</td>\n",
       "      <td>033977045743</td>\n",
       "    </tr>\n",
       "    <tr>\n",
       "      <th>4</th>\n",
       "      <td>5f37c5bafd075a485e63774b</td>\n",
       "      <td>MUK LUKS</td>\n",
       "      <td>Grey</td>\n",
       "      <td>8</td>\n",
       "      <td>47.0</td>\n",
       "      <td>https://i5.walmartimages.com/asr/421de5d5-3a74...</td>\n",
       "      <td>797776110773</td>\n",
       "      <td>033977045743</td>\n",
       "    </tr>\n",
       "  </tbody>\n",
       "</table>\n",
       "</div>"
      ],
      "text/plain": [
       "                        _id     brand color size  price  \\\n",
       "0  5f37c5bafd075a485e637747  MUK LUKS  Grey   10   47.0   \n",
       "1  5f37c5bafd075a485e637748  MUK LUKS  Grey    7   47.0   \n",
       "2  5f37c5bafd075a485e637749  MUK LUKS  Grey    6   47.0   \n",
       "3  5f37c5bafd075a485e63774a  MUK LUKS  Grey    9   47.0   \n",
       "4  5f37c5bafd075a485e63774b  MUK LUKS  Grey    8   47.0   \n",
       "\n",
       "                                                 URL           ean  \\\n",
       "0  https://i5.walmartimages.com/asr/421de5d5-3a74...  725177540363   \n",
       "1  https://i5.walmartimages.com/asr/421de5d5-3a74...  725177540370   \n",
       "2  https://i5.walmartimages.com/asr/421de5d5-3a74...  797776092321   \n",
       "3  https://i5.walmartimages.com/asr/421de5d5-3a74...  701197194311   \n",
       "4  https://i5.walmartimages.com/asr/421de5d5-3a74...  797776110773   \n",
       "\n",
       "            upc  \n",
       "0  033977045743  \n",
       "1  033977045743  \n",
       "2  033977045743  \n",
       "3  033977045743  \n",
       "4  033977045743  "
      ]
     },
     "execution_count": 2,
     "metadata": {},
     "output_type": "execute_result"
    }
   ],
   "source": [
    "# lectura base de datos\n",
    "\n",
    "cliente=pymongo.MongoClient()\n",
    "db=cliente.supply\n",
    "\n",
    "df=pd.DataFrame(list(db.zapatos.find()))\n",
    "df.head()"
   ]
  },
  {
   "cell_type": "code",
   "execution_count": 3,
   "metadata": {},
   "outputs": [
    {
     "name": "stdout",
     "output_type": "stream",
     "text": [
      "<class 'pandas.core.frame.DataFrame'>\n",
      "RangeIndex: 9806 entries, 0 to 9805\n",
      "Data columns (total 8 columns):\n",
      " #   Column  Non-Null Count  Dtype  \n",
      "---  ------  --------------  -----  \n",
      " 0   _id     9806 non-null   object \n",
      " 1   brand   9806 non-null   object \n",
      " 2   color   9806 non-null   object \n",
      " 3   size    9806 non-null   object \n",
      " 4   price   9806 non-null   float64\n",
      " 5   URL     9806 non-null   object \n",
      " 6   ean     9806 non-null   object \n",
      " 7   upc     9806 non-null   object \n",
      "dtypes: float64(1), object(7)\n",
      "memory usage: 613.0+ KB\n"
     ]
    }
   ],
   "source": [
    "df.info()       # check"
   ]
  },
  {
   "cell_type": "raw",
   "metadata": {},
   "source": [
    "# crea una imagen\n",
    "\n",
    "with open('code.jpeg', 'wb') as f:\n",
    "    EAN13(str(df.ean[0]), writer=ImageWriter()).write(f)"
   ]
  },
  {
   "cell_type": "raw",
   "metadata": {},
   "source": [
    "# para todos los registros\n",
    "\n",
    "for i in range(len(df)):\n",
    "    with open('barcodes/code_{}.jpeg'.format(i), 'wb') as f:\n",
    "        EAN13(df.ean[i], writer=ImageWriter()).write(f)"
   ]
  },
  {
   "cell_type": "code",
   "execution_count": 4,
   "metadata": {},
   "outputs": [],
   "source": [
    "# 10 imagenes\n",
    "\n",
    "for i in range(10):\n",
    "    with open('barcodes/code_{}.jpeg'.format(i), 'wb') as f:\n",
    "        EAN13(df.ean[i], writer=ImageWriter()).write(f)"
   ]
  },
  {
   "cell_type": "code",
   "execution_count": null,
   "metadata": {},
   "outputs": [],
   "source": []
  }
 ],
 "metadata": {
  "kernelspec": {
   "display_name": "Python 3",
   "language": "python",
   "name": "python3"
  },
  "language_info": {
   "codemirror_mode": {
    "name": "ipython",
    "version": 3
   },
   "file_extension": ".py",
   "mimetype": "text/x-python",
   "name": "python",
   "nbconvert_exporter": "python",
   "pygments_lexer": "ipython3",
   "version": "3.8.2"
  }
 },
 "nbformat": 4,
 "nbformat_minor": 2
}
